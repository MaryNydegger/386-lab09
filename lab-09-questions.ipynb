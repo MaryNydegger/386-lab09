{
 "cells": [
  {
   "cell_type": "markdown",
   "metadata": {},
   "source": [
    "# Lab 9\n",
    "\n",
    "Use the Palmers Penguins data to create the graphs shown below.  The penguins data come with the seaborn package and can be loaded with the following code:\n",
    "```python\n",
    "# assuming seaborn is already imported as sns\n",
    "penguins = sns.load_dataset('penguins')\n",
    "```"
   ]
  },
  {
   "cell_type": "markdown",
   "metadata": {},
   "source": [
    "Submit your final code directly on this notebook.  Do not include any extra code. You do not need to save any of the graphs as a files. Just include the code to replicate them.  \n",
    "\n",
    "*If the example graphs aren't appearing as images in the notebook, all the graph files can be found in the `graphs` folder.*"
   ]
  },
  {
   "cell_type": "markdown",
   "metadata": {},
   "source": [
    "---\n",
    "1. Use matplotlib to replicate the \"`flipper_length_hist`\" graph. \n",
    "\n",
    "*Hint: the color is \"skyblue\"*\n",
    "\n",
    "![hist](graphs/flipper_length_hist.png)"
   ]
  },
  {
   "cell_type": "code",
   "execution_count": null,
   "metadata": {},
   "outputs": [],
   "source": []
  },
  {
   "cell_type": "code",
   "execution_count": null,
   "metadata": {},
   "outputs": [],
   "source": []
  },
  {
   "cell_type": "code",
   "execution_count": null,
   "metadata": {},
   "outputs": [],
   "source": []
  },
  {
   "cell_type": "markdown",
   "metadata": {},
   "source": [
    "---\n",
    "\n",
    "2. Use matplotlib to replicate the \"`count_of_each_penguin_species`\" graph.  \n",
    "\n",
    "*Hint: The colors are \"firebrick, \"teal\", and \"darkslateblue\".*\n",
    "\n",
    "![bar](graphs/count_of_each_penguin_species.png)"
   ]
  },
  {
   "cell_type": "code",
   "execution_count": null,
   "metadata": {},
   "outputs": [],
   "source": []
  },
  {
   "cell_type": "code",
   "execution_count": null,
   "metadata": {},
   "outputs": [],
   "source": []
  },
  {
   "cell_type": "code",
   "execution_count": null,
   "metadata": {},
   "outputs": [],
   "source": []
  },
  {
   "cell_type": "markdown",
   "metadata": {},
   "source": [
    "---\n",
    "3. Use seaborn to replicate the \"`body_mass_boxplot`\" graph.  \n",
    "\n",
    "*Hint: Default colors used.*\n",
    "\n",
    "![boxplot](graphs/body_mass_boxplot.png)\n",
    "\n"
   ]
  },
  {
   "cell_type": "code",
   "execution_count": null,
   "metadata": {},
   "outputs": [],
   "source": []
  },
  {
   "cell_type": "code",
   "execution_count": null,
   "metadata": {},
   "outputs": [],
   "source": []
  },
  {
   "cell_type": "code",
   "execution_count": null,
   "metadata": {},
   "outputs": [],
   "source": []
  },
  {
   "cell_type": "markdown",
   "metadata": {},
   "source": [
    "---\n",
    "4. Use seaborn to replicate the \"`bill_length_vs_bill_depth`\" graph.  \n",
    "\n",
    "*Hint: the colors are from the \"Set2\" palette.*\n",
    "\n",
    "![scatter](graphs/bill_length_vs_bill_depth.png)\n",
    "\n",
    "\n",
    "\n"
   ]
  },
  {
   "cell_type": "code",
   "execution_count": null,
   "metadata": {},
   "outputs": [],
   "source": []
  },
  {
   "cell_type": "code",
   "execution_count": null,
   "metadata": {},
   "outputs": [],
   "source": []
  },
  {
   "cell_type": "code",
   "execution_count": null,
   "metadata": {},
   "outputs": [],
   "source": []
  },
  {
   "cell_type": "markdown",
   "metadata": {},
   "source": [
    "---\n",
    "5. Use seaborn to replicate the \"`lowess_line_by_species`\" graph.  \n",
    "\n",
    "*Hint: Default colors used.*\n",
    "\n",
    "![lowess](graphs/lowess_line_by_species.png)\n",
    "\n"
   ]
  },
  {
   "cell_type": "code",
   "execution_count": null,
   "metadata": {},
   "outputs": [],
   "source": []
  },
  {
   "cell_type": "code",
   "execution_count": null,
   "metadata": {},
   "outputs": [],
   "source": []
  },
  {
   "cell_type": "code",
   "execution_count": null,
   "metadata": {},
   "outputs": [],
   "source": []
  },
  {
   "cell_type": "markdown",
   "metadata": {},
   "source": [
    "---\n",
    "6. Use seaborn to replicate the \"`flipper_length_violin`\" graph.  \n",
    "\n",
    "*Hint: the colors are from the \"Paired\" palette.*\n",
    "\n",
    "![violin](graphs/flipper_length_violin.png)\n",
    "\n"
   ]
  },
  {
   "cell_type": "code",
   "execution_count": null,
   "metadata": {},
   "outputs": [],
   "source": []
  },
  {
   "cell_type": "code",
   "execution_count": null,
   "metadata": {},
   "outputs": [],
   "source": []
  },
  {
   "cell_type": "code",
   "execution_count": null,
   "metadata": {},
   "outputs": [],
   "source": []
  },
  {
   "cell_type": "markdown",
   "metadata": {},
   "source": [
    "--- \n",
    "7. Use seaborn to replicate the \"`facet_grid`\" graph.\n",
    "\n",
    "*Hint: the colors are from the \"Set2\" palette.*\n",
    "\n",
    "![grid](graphs/facet_grid.png)"
   ]
  },
  {
   "cell_type": "code",
   "execution_count": null,
   "metadata": {},
   "outputs": [],
   "source": []
  },
  {
   "cell_type": "code",
   "execution_count": null,
   "metadata": {},
   "outputs": [],
   "source": []
  },
  {
   "cell_type": "code",
   "execution_count": null,
   "metadata": {},
   "outputs": [],
   "source": []
  },
  {
   "cell_type": "markdown",
   "metadata": {},
   "source": [
    "\n",
    "8. Use seaborn to replicate the \"`pairplot`\" graph.  \n",
    "\n",
    "*Hint: the colors are from the \"Set2\" palette.*\n",
    "\n",
    "![pair](graphs/pairplot.png)"
   ]
  },
  {
   "cell_type": "code",
   "execution_count": null,
   "metadata": {},
   "outputs": [],
   "source": []
  },
  {
   "cell_type": "code",
   "execution_count": null,
   "metadata": {},
   "outputs": [],
   "source": []
  },
  {
   "cell_type": "code",
   "execution_count": null,
   "metadata": {},
   "outputs": [],
   "source": []
  },
  {
   "cell_type": "markdown",
   "metadata": {},
   "source": [
    "---\n",
    "9. Use seaborn to replicate the \"`correlation_heatmap`\" graph.\n",
    "\n",
    "*Hint: the colors are from the \"YlGnBu\" palette.*\n",
    "\n",
    "![heat](graphs/correlation_heatmap.png)"
   ]
  },
  {
   "cell_type": "code",
   "execution_count": null,
   "metadata": {},
   "outputs": [],
   "source": []
  },
  {
   "cell_type": "code",
   "execution_count": null,
   "metadata": {},
   "outputs": [],
   "source": []
  },
  {
   "cell_type": "code",
   "execution_count": null,
   "metadata": {},
   "outputs": [],
   "source": []
  },
  {
   "cell_type": "markdown",
   "metadata": {},
   "source": [
    "---\n",
    "10. Replicate problem (4) using plotly express.  Here is an example of what it might look like in plotly:\n",
    "\n",
    "\n",
    "[View Plotly Figure](graphs/plotly_scatter.html) \n",
    "\n",
    "*(In VS Code, the link will just show you the html code, so you might need to open the file in a browser.)*\n"
   ]
  },
  {
   "cell_type": "code",
   "execution_count": null,
   "metadata": {},
   "outputs": [],
   "source": []
  },
  {
   "cell_type": "code",
   "execution_count": null,
   "metadata": {},
   "outputs": [],
   "source": []
  },
  {
   "cell_type": "code",
   "execution_count": null,
   "metadata": {},
   "outputs": [],
   "source": []
  },
  {
   "cell_type": "code",
   "execution_count": null,
   "metadata": {},
   "outputs": [],
   "source": []
  },
  {
   "cell_type": "code",
   "execution_count": null,
   "metadata": {},
   "outputs": [],
   "source": []
  }
 ],
 "metadata": {
  "kernelspec": {
   "display_name": "classes",
   "language": "python",
   "name": "python3"
  },
  "language_info": {
   "codemirror_mode": {
    "name": "ipython",
    "version": 3
   },
   "file_extension": ".py",
   "mimetype": "text/x-python",
   "name": "python",
   "nbconvert_exporter": "python",
   "pygments_lexer": "ipython3",
   "version": "3.10.12"
  }
 },
 "nbformat": 4,
 "nbformat_minor": 2
}
